{
 "cells": [
  {
   "cell_type": "code",
   "execution_count": 8,
   "metadata": {},
   "outputs": [],
   "source": [
    "import pandas as pd\n",
    "import glob\n",
    "from pathlib import Path\n",
    "import re\n",
    "import os"
   ]
  },
  {
   "cell_type": "code",
   "execution_count": 2,
   "metadata": {},
   "outputs": [
    {
     "name": "stdout",
     "output_type": "stream",
     "text": [
      "RawData/CashFlow_Quartely/FB_CashFlow_Quartely.xlsx\n",
      "RawData/Metrics_Quartely/AEO_Metrics_Quartely.xlsx\n",
      "RawData/Metrics_Quartely/ENV_Metrics_Quartely.xlsx\n",
      "RawData/Metrics_Quartely/TAP_Metrics_Quartely.xlsx\n",
      "RawData/CashFlow_Trailing/SYF_CashFlow_Trailing.xlsx\n",
      "RawData/CashFlow_Trailing/NUS_CashFlow_Trailing.xlsx\n",
      "RawData/Metrics_Trailing/SMG_Metrics_Trailing.xlsx\n",
      "RawData/Metrics_Trailing/BAP_Metrics_Trailing.xlsx\n",
      "RawData/Income_Trailing/CCJ_Income_Trailing.xlsx\n",
      "RawData/Income_Trailing/RUN_Income_Trailing.xlsx\n",
      "RawData/BalanceSheet_Quartely/LTRPB_BalanceSheet_Quartely.xlsx\n",
      "RawData/BalanceSheet_Quartely/BBVA_BalanceSheet_Quartely.xlsx\n",
      "CPU times: user 4min 40s, sys: 6.33 s, total: 4min 46s\n",
      "Wall time: 4min 59s\n"
     ]
    }
   ],
   "source": [
    "%%time\n",
    "dict_df_BQ = {}\n",
    "dict_df_GQ = {}\n",
    "dict_df_CQ = {}\n",
    "dict_df_CT = {}\n",
    "dict_df_IQ = {}\n",
    "dict_df_IT = {}\n",
    "dict_df_MQ = {}\n",
    "dict_df_MT = {}\n",
    "\n",
    "for file in glob.iglob('**/*.xlsx', recursive=True):\n",
    "    #Coleta ticker a partir do nome do arquivo\n",
    "    name = Path(file).stem\n",
    "    name_splited = re.split(\"_\", name) \n",
    "    ticker = name_splited[0]\n",
    "    try:\n",
    "        #Excel para pandas, armazena cada tipo em um dicionário correspondente ao tipo\n",
    "        x_file = pd.read_excel(file,sheet_name=0, index_col=[0]).transpose()\n",
    "        if name_splited[1] == 'BalanceSheet' and name_splited[2] == 'Quartely':\n",
    "            dict_df_BQ[ticker] = x_file\n",
    "        elif name_splited[1] == 'Growth' and name_splited[2] == 'Quartely':\n",
    "            dict_df_GQ[ticker] = x_file      \n",
    "        elif name_splited[1] == 'CashFlow' and name_splited[2] == 'Quartely':\n",
    "            dict_df_CQ[ticker] = x_file\n",
    "        elif name_splited[1] == 'CashFlow' and name_splited[2] == 'Trailing':\n",
    "            dict_df_CT[ticker] = x_file\n",
    "        elif name_splited[1] == 'Income' and name_splited[2] == 'Quartely':\n",
    "            dict_df_IQ[ticker] = x_file\n",
    "        elif name_splited[1] == 'Income' and name_splited[2] == 'Trailing':\n",
    "            dict_df_IT[ticker] = x_file\n",
    "        elif name_splited[1] == 'Metrics' and name_splited[2] == 'Quartely':\n",
    "            dict_df_MQ[ticker] = x_file\n",
    "        elif name_splited[1] == 'Metrics' and name_splited[2] == 'Trailing':\n",
    "            dict_df_MT[ticker] = x_file\n",
    "    except:\n",
    "        print(file)\n",
    "        \n",
    "dict_df_all = {\"Balance_Quartely\": dict_df_BQ,\n",
    "              \"Growth_Quartely\": dict_df_GQ,\n",
    "              \"CashFlow_Quartely\": dict_df_CQ,\n",
    "              \"CashFlow_Trailing\": dict_df_CT,\n",
    "              \"Income_Quartely\": dict_df_IQ,\n",
    "              \"Income_Trailing\": dict_df_IT,\n",
    "              \"Metrics_Quartely\": dict_df_MQ,\n",
    "              \"Metrics_Trailing\": dict_df_MT}"
   ]
  },
  {
   "cell_type": "code",
   "execution_count": 3,
   "metadata": {},
   "outputs": [
    {
     "name": "stdout",
     "output_type": "stream",
     "text": [
      "Balance_Quartely: 2183\n",
      "Growth_Quartely: 2185\n",
      "CashFlow_Quartely: 2184\n",
      "CashFlow_Trailing: 2183\n",
      "Income_Quartely: 2185\n",
      "Income_Trailing: 2181\n",
      "Metrics_Quartely: 2182\n",
      "Metrics_Trailing: 2183\n"
     ]
    }
   ],
   "source": [
    "for k,v in dict_df_all.items():\n",
    "    print(k + ': ' + str(len(v)))"
   ]
  },
  {
   "cell_type": "code",
   "execution_count": 4,
   "metadata": {
    "scrolled": true
   },
   "outputs": [
    {
     "name": "stdout",
     "output_type": "stream",
     "text": [
      "CPU times: user 2min 48s, sys: 1min 46s, total: 4min 35s\n",
      "Wall time: 4min 35s\n"
     ]
    }
   ],
   "source": [
    "%%time\n",
    "dfs = {}\n",
    "for k,v in dict_df_all.items():\n",
    "    dfs[k] = pd.DataFrame()\n",
    "    \n",
    "    for key,value in v.items():\n",
    "        df = value\n",
    "        df.insert(0,'Ticker',key)\n",
    "        #df.reset_index(inplace=True)\n",
    "        dfs[k] = dfs[k].append(df)"
   ]
  },
  {
   "cell_type": "code",
   "execution_count": 5,
   "metadata": {},
   "outputs": [
    {
     "name": "stdout",
     "output_type": "stream",
     "text": [
      "Balance_Quartely: 2183\n",
      "Growth_Quartely: 2185\n",
      "CashFlow_Quartely: 2184\n",
      "CashFlow_Trailing: 2183\n",
      "Income_Quartely: 2185\n",
      "Income_Trailing: 2181\n",
      "Metrics_Quartely: 2182\n",
      "Metrics_Trailing: 2183\n"
     ]
    }
   ],
   "source": [
    "for k,v in dfs.items():\n",
    "    print(k + \": \" + str(len(set(v['Ticker']))))"
   ]
  },
  {
   "cell_type": "code",
   "execution_count": 9,
   "metadata": {},
   "outputs": [],
   "source": [
    "#Local onde serão baixados os arquivos\n",
    "path= './Dados_csv'\n",
    "#Cria pasta caso não exista\n",
    "if os.path.isdir(path) == False:\n",
    "    os.mkdir(path)\n",
    "for k,v in dfs.items():\n",
    "    name = path + '/' + k + '.csv'\n",
    "    v.to_csv(name)"
   ]
  },
  {
   "cell_type": "code",
   "execution_count": null,
   "metadata": {},
   "outputs": [],
   "source": []
  }
 ],
 "metadata": {
  "kernelspec": {
   "display_name": "Python 3",
   "language": "python",
   "name": "python3"
  },
  "language_info": {
   "codemirror_mode": {
    "name": "ipython",
    "version": 3
   },
   "file_extension": ".py",
   "mimetype": "text/x-python",
   "name": "python",
   "nbconvert_exporter": "python",
   "pygments_lexer": "ipython3",
   "version": "3.7.6"
  }
 },
 "nbformat": 4,
 "nbformat_minor": 4
}
