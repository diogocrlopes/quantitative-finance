{
 "cells": [
  {
   "cell_type": "code",
   "execution_count": 43,
   "metadata": {},
   "outputs": [],
   "source": [
    "import yfinance as yf\n",
    "import pandas as pd\n",
    "from get_all_tickers import get_tickers as gt #Empresas listadas na NYSE, NASDAQ e AMEX\n",
    "import sqlite3\n",
    "import os\n",
    "import glob\n",
    "from pathlib import Path"
   ]
  },
  {
   "cell_type": "code",
   "execution_count": 30,
   "metadata": {},
   "outputs": [],
   "source": [
    "#Local onde está o banco de dados\n",
    "path_db= 'Companies.db'\n",
    "#Cria cria banco de dados caso não exista\n",
    "if os.path.isfile(path) == False:\n",
    "    !sqlite3 Companies.db < companies_db.schema"
   ]
  },
  {
   "cell_type": "code",
   "execution_count": 3,
   "metadata": {},
   "outputs": [
    {
     "name": "stdout",
     "output_type": "stream",
     "text": [
      "Quantidade de empresas listadas: 6445\n"
     ]
    }
   ],
   "source": [
    "#Retorna tickers das empresas listadas na NYSE, NASDAQ e AMEX\n",
    "symbols = set(gt.get_tickers())\n",
    "print('Quantidade de empresas listadas: {}'.format(len(symbols)))"
   ]
  },
  {
   "cell_type": "code",
   "execution_count": 4,
   "metadata": {},
   "outputs": [
    {
     "name": "stdout",
     "output_type": "stream",
     "text": [
      "CPU times: user 18min 23s, sys: 1min 17s, total: 19min 41s\n",
      "Wall time: 6h 52min 9s\n"
     ]
    }
   ],
   "source": [
    "%%time\n",
    "conn = sqlite3.connect(path_db)\n",
    "cursor = conn.cursor()\n",
    "\n",
    "#Retorna quais empresas já existem no banco de dados\n",
    "cursor.execute(\"\"\"\n",
    "SELECT Ticker FROM Info_gerais;\n",
    "\"\"\")\n",
    "already_exist = []\n",
    "for linha in cursor.fetchall():\n",
    "    already_exist.append(linha[0])\n",
    "    \n",
    "new_symbols = symbols.difference(set(already_exist)) #Empresas que ainda não estão no BD\n",
    "\n",
    "for i, symbol in enumerate(new_symbols):\n",
    "    try:\n",
    "        ticker = yf.Ticker(symbol)\n",
    "        info = ticker.info\n",
    "        \n",
    "        #Verifica se os dados desejados existem\n",
    "        keys = info.keys()\n",
    "        shortName = info['shortName'] if 'shortName' in keys else None\n",
    "        market = info['market'] if 'market' in keys else None\n",
    "        marketCap = info['marketCap'] if 'marketCap' in keys else 'NULL'\n",
    "        beta = info['beta']if 'beta' in keys else 'NULL'\n",
    "        country = info['country'] if 'country' in keys else None\n",
    "        sector = info['sector'] if 'sector' in keys else None\n",
    "        industry = info['industry'] if 'industry' in keys else None\n",
    "        \n",
    "        \n",
    "        cursor.execute(\"\"\"\n",
    "        INSERT INTO Info_gerais (Ticker, [Company name], Market, Marketcap, Beta, Country, Sector, Industry, [Possui dados])\n",
    "        VALUES (?, ?, ?, ?, ?, ?, ?, ?, FALSE)\n",
    "        \"\"\",(symbol,shortName,market,marketCap,beta,country,sector,industry)\n",
    "        )\n",
    "    except:\n",
    "        cursor.execute(\"\"\"\n",
    "        INSERT INTO Info_gerais (Ticker, [Possui dados])\n",
    "        VALUES (:symbol, FALSE)\n",
    "        \"\"\", {'symbol':symbol} \n",
    "        )\n",
    "\n",
    "        \n",
    "    print(\"{}: {}\".format(i+1,(len(new_symbols))+1),end=\"\\r\")\n",
    "    \n",
    "    #Efetua commit a cada 100\n",
    "    if i >= 100 and i % 100 == 0:\n",
    "        conn.commit()\n",
    "\n",
    "#Commit de alterações no banco de dados\n",
    "conn.commit()\n",
    "\n",
    "#Termina conexão\n",
    "conn.close()\n"
   ]
  },
  {
   "cell_type": "code",
   "execution_count": 58,
   "metadata": {},
   "outputs": [
    {
     "name": "stdout",
     "output_type": "stream",
     "text": [
      "CPU times: user 5.76 s, sys: 404 ms, total: 6.16 s\n",
      "Wall time: 6.23 s\n"
     ]
    }
   ],
   "source": [
    "%%time\n",
    "conn = sqlite3.connect(path_db)\n",
    "cursor = conn.cursor()\n",
    "\n",
    "for file in glob.iglob('./Dados_csv/*.csv'):\n",
    "    #Coleta nome da planilha a partir do nome do arquivo\n",
    "    name = Path(file).stem\n",
    "    \n",
    "    #csv para DataFrame\n",
    "    df = pd.read_csv(file)\n",
    "    \n",
    "    #Cria string q com n \"?,\" onde é o número de colunas do DataFrame\n",
    "    q = \"\".zfill(len(df.columns)).replace(\"0\",\"?,\")[:-1]\n",
    "    \n",
    "    for row in df.itertuples():\n",
    "        cursor.execute('''\n",
    "                INSERT INTO {table}\n",
    "                VALUES ({q})\n",
    "                '''.format(table=name, q=q), row[1:]\n",
    "                       )\n",
    "    \n",
    "    conn.commit()\n",
    "conn.close()"
   ]
  },
  {
   "cell_type": "code",
   "execution_count": 102,
   "metadata": {},
   "outputs": [
    {
     "name": "stdout",
     "output_type": "stream",
     "text": [
      "Balance_Quartely: True\n",
      "Growth_Quartely: True\n",
      "CashFlow_Quartely: True\n",
      "Income_Quartely: True\n",
      "CashFlow_Trailing: True\n",
      "Income_Trailing: True\n",
      "Metrics_Trailing: True\n",
      "Metrics_Quartely: True\n",
      "CPU times: user 8.27 s, sys: 506 ms, total: 8.77 s\n",
      "Wall time: 8.77 s\n"
     ]
    }
   ],
   "source": [
    "%%time\n",
    "#Checa se upload de dados no BD foi feito corretamente\n",
    "conn = sqlite3.connect(path_db)\n",
    "cursor = conn.cursor()\n",
    "\n",
    "for file in glob.iglob('./Dados_csv/*.csv'):\n",
    "    #Coleta nome da planilha a partir do nome do arquivo\n",
    "    name = Path(file).stem\n",
    "    \n",
    "    #Cria DataFrame a partir do csv\n",
    "    df_csv = pd.read_csv(file)\n",
    "    colunas = df_csv.columns\n",
    "    #Cria DataFrame a partir do BD\n",
    "    cursor.execute('''\n",
    "            SELECT * FROM {table};\n",
    "            '''.format(table=name)\n",
    "                   )\n",
    "    rows = cursor.fetchall()\n",
    "    df_BD = pd.DataFrame(rows,columns=colunas)\n",
    "    \n",
    "    #Compara se ambos Dataframes são iguais\n",
    "    teste = df_BD.equals(df_csv)\n",
    "    print(\"{}: {}\".format(name,str(teste)))\n",
    "\n",
    "conn.close()"
   ]
  },
  {
   "cell_type": "code",
   "execution_count": 56,
   "metadata": {},
   "outputs": [],
   "source": [
    "# #Deleta todos os valores de uma tabela\n",
    "# conn = sqlite3.connect(path_db)\n",
    "# cursor = conn.cursor()\n",
    "\n",
    "# #Retorna quais empresas já existem no banco de dados\n",
    "# cursor.execute(\"\"\"\n",
    "# DELETE FROM Balance_Quartely;\n",
    "# \"\"\")\n",
    "# conn.commit()\n",
    "# conn.close()"
   ]
  }
 ],
 "metadata": {
  "kernelspec": {
   "display_name": "Python 3",
   "language": "python",
   "name": "python3"
  },
  "language_info": {
   "codemirror_mode": {
    "name": "ipython",
    "version": 3
   },
   "file_extension": ".py",
   "mimetype": "text/x-python",
   "name": "python",
   "nbconvert_exporter": "python",
   "pygments_lexer": "ipython3",
   "version": "3.7.6"
  }
 },
 "nbformat": 4,
 "nbformat_minor": 4
}
