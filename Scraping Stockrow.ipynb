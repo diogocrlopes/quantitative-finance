{
 "cells": [
  {
   "cell_type": "code",
   "execution_count": null,
   "metadata": {},
   "outputs": [],
   "source": [
    "import urllib.request #Acesso ao site e efetuar download\n",
    "import time #Usar função sleep\n",
    "import random #Gerar números aleatórios\n",
    "import glob #Selecionar arquivos\n",
    "import pandas as pd #Manipulação de dados\n",
    "import os #Maniplação de diretórios\n",
    "from pathlib import Path #Leitura nome arquivo\n",
    "import re #Manipulação de string\n",
    "from datetime import datetime #Calcular tempo total\n",
    "from get_all_tickers import get_tickers as gt #Empresas listadas na NYSE, NASDAQ e AMEX"
   ]
  },
  {
   "cell_type": "code",
   "execution_count": null,
   "metadata": {},
   "outputs": [],
   "source": [
    "inicio = datetime.now()"
   ]
  },
  {
   "cell_type": "markdown",
   "metadata": {},
   "source": [
    "### **Tickers das empresas listadas no EUA**"
   ]
  },
  {
   "cell_type": "code",
   "execution_count": null,
   "metadata": {},
   "outputs": [],
   "source": [
    "#Retorna tickers das empresas listadas na NYSE, NASDAQ e AMEX\n",
    "companies = gt.get_tickers()\n",
    "print('Quantidade de empresas listadas: {}'.format(len(companies)))"
   ]
  },
  {
   "cell_type": "markdown",
   "metadata": {},
   "source": [
    "### **Download empresas selecionadas**"
   ]
  },
  {
   "cell_type": "code",
   "execution_count": null,
   "metadata": {},
   "outputs": [],
   "source": [
    "#Local onde serão baixados os arquivos\n",
    "path_download = './RawData'\n",
    "#Cria pasta caso não exista\n",
    "if os.path.isdir(path_download) == False:\n",
    "    os.mkdir(path_download)\n",
    "#Cria pasta para cada tipo de relatório caso não existam\n",
    "if os.path.isdir(path_download + '/Growth_Quartely') == False:\n",
    "    os.mkdir(path_download + '/Growth_Quartely')\n",
    "if os.path.isdir(path_download + '/Metrics_Trailing') == False:\n",
    "    os.mkdir(path_download + '/Metrics_Trailing')\n",
    "if os.path.isdir(path_download + '/Metrics_Quartely') == False:\n",
    "    os.mkdir(path_download + '/Metrics_Quartely')\n",
    "if os.path.isdir(path_download + '/CashFlow_Quartely') == False:\n",
    "    os.mkdir(path_download + '/CashFlow_Quartely')\n",
    "if os.path.isdir(path_download + '/CashFlow_Trailing') == False:\n",
    "    os.mkdir(path_download + '/CashFlow_Trailing')\n",
    "if os.path.isdir(path_download + '/Income_Quartely') == False:\n",
    "    os.mkdir(path_download + '/Income_Quartely')\n",
    "if os.path.isdir(path_download + '/Income_Trailing') == False:\n",
    "    os.mkdir(path_download + '/Income_Trailing')\n",
    "if os.path.isdir(path_download + '/BalanceSheet_Quartely') == False:\n",
    "    os.mkdir(path_download + '/BalanceSheet_Quartely')"
   ]
  },
  {
   "cell_type": "code",
   "execution_count": null,
   "metadata": {},
   "outputs": [],
   "source": [
    "#Define tempo min e max (em segundos) entre os downloads\n",
    "min_time = 1\n",
    "max_time = 10"
   ]
  },
  {
   "cell_type": "code",
   "execution_count": null,
   "metadata": {},
   "outputs": [],
   "source": [
    "#Download Growth Quartely\n",
    "size_companies = len(companies)\n",
    "for i, company in enumerate(companies):\n",
    "    print('{}:{}, Ticker: {}    '.format(i,size_companies,company), end=\"\\r\")\n",
    "    time.sleep(random.randrange(min_time,max_time))\n",
    "    try:\n",
    "        url = 'https://stockrow.com/api/companies/{}/financials.xlsx?dimension=Q&section=Growth&sort=desc'.format(company)\n",
    "        file_download = path_download + '/Growth_Quartely/{}_Growth_Quartely.xlsx'.format(company)\n",
    "        urllib.request.urlretrieve(url, file_download)\n",
    "    except:\n",
    "        companies_problem.append(company)\n",
    "print('Quantidade de empresas que não foram baixadas: {}'.format(len(companies_problem)))"
   ]
  },
  {
   "cell_type": "code",
   "execution_count": null,
   "metadata": {},
   "outputs": [],
   "source": [
    "#Remove companies que não foi possível baixar dados\n",
    "for company in companies_problem:\n",
    "    companies.remove(company)\n",
    "len(companies)"
   ]
  },
  {
   "cell_type": "code",
   "execution_count": null,
   "metadata": {},
   "outputs": [],
   "source": [
    "#Download Metrics Trailing\n",
    "size_companies = len(companies)\n",
    "for i, company in enumerate(companies):\n",
    "    print('{}:{}, Ticker: {}    '.format(i+1,size_companies,company), end=\"\\r\")\n",
    "    time.sleep(random.randrange(min_time,max_time))\n",
    "    try:\n",
    "        url = 'https://stockrow.com/api/companies/{}/financials.xlsx?dimension=T&section=Metrics&sort=desc'.format(company)\n",
    "        file_download = path_download +  '/Metrics_Trailing/{}_Metrics_Trailing.xlsx'.format(company)\n",
    "        urllib.request.urlretrieve(url, file_download)\n",
    "    except:\n",
    "        companies_problem.append(company)\n",
    "print('Quantidade de empresas que não foram baixadas: {}'.format(len(companies_problem)))"
   ]
  },
  {
   "cell_type": "code",
   "execution_count": null,
   "metadata": {},
   "outputs": [],
   "source": [
    "#Download Metrics Quartely\n",
    "size_companies = len(companies)\n",
    "for i, company in enumerate(companies):\n",
    "    print('{}:{}, Ticker: {}    '.format(i+1,size_companies,company), end=\"\\r\")\n",
    "    time.sleep(random.randrange(min_time,max_time))\n",
    "    try:\n",
    "        url = 'https://stockrow.com/api/companies/{}/financials.xlsx?dimension=T&section=Metrics&sort=desc'.format(company)\n",
    "        file_download = path_download +  '/Metrics_Quartely/{}_Metrics_Quartely.xlsx'.format(company)\n",
    "        urllib.request.urlretrieve(url, file_download)\n",
    "    except:\n",
    "        companies_problem.append(company)\n",
    "print('Quantidade de empresas que não foram baixadas: {}'.format(len(companies_problem)))"
   ]
  },
  {
   "cell_type": "code",
   "execution_count": null,
   "metadata": {},
   "outputs": [],
   "source": [
    "#Download Cash Flow Quartely\n",
    "size_companies = len(companies)\n",
    "for i, company in enumerate(companies):\n",
    "    print('{}:{}, Ticker: {}    '.format(i+1,size_companies,company), end=\"\\r\")\n",
    "    time.sleep(random.randrange(min_time,max_time))\n",
    "    try:\n",
    "        url = 'https://stockrow.com/api/companies/{}/financials.xlsx?dimension=Q&section=Cash%20Flow&sort=desc'.format(company)\n",
    "        file_download = path_download +  '/CashFlow_Quartely/{}_CashFlow_Quartely.xlsx'.format(company)\n",
    "        urllib.request.urlretrieve(url, file_download)\n",
    "    except:\n",
    "        companies_problem.append(company)\n",
    "print('Quantidade de empresas que não foram baixadas: {}'.format(len(companies_problem)))"
   ]
  },
  {
   "cell_type": "code",
   "execution_count": null,
   "metadata": {},
   "outputs": [],
   "source": [
    "#Download Cash Flow Trailing\n",
    "size_companies = len(companies)\n",
    "for i, company in enumerate(companies):\n",
    "    print('{}:{}, Ticker: {}    '.format(i+1,size_companies,company), end=\"\\r\")\n",
    "    time.sleep(random.randrange(min_time,max_time))\n",
    "    try:\n",
    "        url = 'https://stockrow.com/api/companies/{}/financials.xlsx?dimension=T&section=Cash%20Flow&sort=desc'.format(company)\n",
    "        file_download = path_download +  '/CashFlow_Trailing/{}_CashFlow_Trailing.xlsx'.format(company)\n",
    "        urllib.request.urlretrieve(url, file_download)\n",
    "    except:\n",
    "        companies_problem.append(company)\n",
    "print('Quantidade de empresas que não foram baixadas: {}'.format(len(companies_problem)))"
   ]
  },
  {
   "cell_type": "code",
   "execution_count": null,
   "metadata": {},
   "outputs": [],
   "source": [
    "#Download Income Quartely\n",
    "size_companies = len(companies)\n",
    "for i, company in enumerate(companies):\n",
    "    print('{}:{}, Ticker: {}    '.format(i+1,size_companies,company), end=\"\\r\")\n",
    "    time.sleep(random.randrange(min_time,max_time))\n",
    "    try:\n",
    "        url = 'https://stockrow.com/api/companies/{}/financials.xlsx?dimension=Q&section=Income%20Statement&sort=desc'.format(company)\n",
    "        file_download = path_download +  '/Income_Quartely/{}_Income_Quartely.xlsx'.format(company)\n",
    "        urllib.request.urlretrieve(url, file_download)\n",
    "    except:\n",
    "        companies_problem.append(company)\n",
    "print('Quantidade de empresas que não foram baixadas: {}'.format(len(companies_problem)))"
   ]
  },
  {
   "cell_type": "code",
   "execution_count": null,
   "metadata": {},
   "outputs": [],
   "source": [
    "#Download Income Trailing\n",
    "size_companies = len(companies)\n",
    "for i, company in enumerate(companies):\n",
    "    print('{}:{}, Ticker: {}    '.format(i+1,size_companies,company), end=\"\\r\")\n",
    "    time.sleep(random.randrange(min_time,max_time))\n",
    "    try:\n",
    "        url = 'https://stockrow.com/api/companies/{}/financials.xlsx?dimension=T&section=Income%20Statement&sort=desc'.format(company)\n",
    "        file_download = path_download +  '/Income_Trailing/{}_Income_Trailing.xlsx'.format(company)\n",
    "        urllib.request.urlretrieve(url, file_download)\n",
    "    except:\n",
    "        companies_problem.append(company)\n",
    "print('Quantidade de empresas que não foram baixadas: {}'.format(len(companies_problem)))"
   ]
  },
  {
   "cell_type": "code",
   "execution_count": null,
   "metadata": {},
   "outputs": [],
   "source": [
    "#Download Balance Sheet Quartely\n",
    "size_companies = len(companies)\n",
    "for i, company in enumerate(companies):\n",
    "    print('{}:{}, Ticker: {}    '.format(i+1,size_companies,company), end=\"\\r\")\n",
    "    time.sleep(random.randrange(min_time,max_time))\n",
    "    try:\n",
    "        url = 'https://stockrow.com/api/companies/{}/financials.xlsx?dimension=Q&section=Balance%20Sheet&sort=desc'.format(company)\n",
    "        file_download = path_download +  '/BalanceSheet_Quartely/{}_BalanceSheet_Quartely.xlsx'.format(company)\n",
    "        urllib.request.urlretrieve(url, file_download)\n",
    "    except:\n",
    "        companies_problem.append(company)\n",
    "print('Quantidade de empresas que não foram baixadas: {}'.format(len(companies_problem)))"
   ]
  },
  {
   "cell_type": "markdown",
   "metadata": {},
   "source": [
    "### Testa se todas os arquivos foram baixados corretamente e efetua o download novamente"
   ]
  },
  {
   "cell_type": "code",
   "execution_count": null,
   "metadata": {},
   "outputs": [],
   "source": [
    "excel_problem = []\n",
    "for file in glob.iglob(path_download + '/**/*.xlsx', recursive=True):\n",
    "    try:\n",
    "        x_file = pd.read_excel(file,sheet_name=0, index_col=[0])\n",
    "    except:\n",
    "        excel_problem.append(file)"
   ]
  },
  {
   "cell_type": "code",
   "execution_count": null,
   "metadata": {},
   "outputs": [],
   "source": [
    "len(excel_problem)"
   ]
  },
  {
   "cell_type": "code",
   "execution_count": null,
   "metadata": {},
   "outputs": [],
   "source": [
    "#Faz o download novamente dos arquivos baixados com problema\n",
    "for file in excel_problem:\n",
    "    name = Path(file).stem\n",
    "    name_splited = re.split(\"_\", name) \n",
    "    ticker = name_splited[0]\n",
    "    sheet = name_splited[1]\n",
    "    period = name_splited[2]\n",
    "    \n",
    "    if sheet == 'Growth':\n",
    "        try:\n",
    "            url = 'https://stockrow.com/api/companies/{}/financials.xlsx?dimension=Q&section=Growth&sort=desc'.format(ticker)\n",
    "            file_download = path_download + '/Growth_Quartely/{}_Growth_Quartely.xlsx'.format(ticker)\n",
    "            urllib.request.urlretrieve(url, file_download)\n",
    "        except:\n",
    "            pass\n",
    "        \n",
    "    elif sheet == 'Metrics':    \n",
    "        if period == 'Quartely':\n",
    "            try:\n",
    "                url = 'https://stockrow.com/api/companies/{}/financials.xlsx?dimension=T&section=Metrics&sort=desc'.format(ticker)\n",
    "                file_download = path_download +  '/Metrics_Quartely/{}_Metrics_Quartely.xlsx'.format(ticker)\n",
    "                urllib.request.urlretrieve(url, file_download)\n",
    "            except:\n",
    "                pass\n",
    "        elif period == 'Trailing':\n",
    "            try:\n",
    "                url = 'https://stockrow.com/api/companies/{}/financials.xlsx?dimension=T&section=Metrics&sort=desc'.format(ticker)\n",
    "                file_download = path_download +  '/Metrics_Trailing/{}_Metrics_Trailing.xlsx'.format(ticker)\n",
    "                urllib.request.urlretrieve(url, file_download)\n",
    "            except:\n",
    "                pass\n",
    "    \n",
    "    elif sheet == 'CashFlow':\n",
    "        if period == 'Quartely':\n",
    "            try:\n",
    "                url = 'https://stockrow.com/api/companies/{}/financials.xlsx?dimension=Q&section=Cash%20Flow&sort=desc'.format(ticker)\n",
    "                file_download = path_download +  '/CashFlow_Quartely/{}_CashFlow_Quartely.xlsx'.format(ticker)\n",
    "                urllib.request.urlretrieve(url, file_download)\n",
    "            except:\n",
    "                pass\n",
    "        elif period == 'Trailing':\n",
    "            try:\n",
    "                url = 'https://stockrow.com/api/companies/{}/financials.xlsx?dimension=T&section=Cash%20Flow&sort=desc'.format(ticker)\n",
    "                file_download = path_download +  '/CashFlow_Trailing/{}_CashFlow_Trailing.xlsx'.format(ticker)\n",
    "                urllib.request.urlretrieve(url, file_download)\n",
    "            except:\n",
    "                pass\n",
    "\n",
    "    elif sheet == 'Income':\n",
    "        if period == 'Quartely':\n",
    "            try:\n",
    "                url = 'https://stockrow.com/api/companies/{}/financials.xlsx?dimension=Q&section=Income%20Statement&sort=desc'.format(ticker)\n",
    "                file_download = path_download +  '/Income_Quartely/{}_Income_Quartely.xlsx'.format(ticker)\n",
    "                urllib.request.urlretrieve(url, file_download)\n",
    "            except:\n",
    "                pass\n",
    "        elif period == 'Trailing':\n",
    "            try:\n",
    "                url = 'https://stockrow.com/api/companies/{}/financials.xlsx?dimension=T&section=Income%20Statement&sort=desc'.format(ticker)\n",
    "                file_download = path_download +  '/Income_Trailing/{}_Income_Trailing.xlsx'.format(ticker)\n",
    "                urllib.request.urlretrieve(url, file_download)\n",
    "            except:\n",
    "                pass\n",
    "    \n",
    "    elif sheet == 'BalanceSheet':\n",
    "        try:\n",
    "            url = 'https://stockrow.com/api/companies/{}/financials.xlsx?dimension=Q&section=Balance%20Sheet&sort=desc'.format(ticker)\n",
    "            file_download = path_download +  '/BalanceSheet_Quartely/{}_BalanceSheet_Quartely.xlsx'.format(ticker)\n",
    "            urllib.request.urlretrieve(url, file_download)\n",
    "        except:\n",
    "            pass\n",
    "            \n",
    "    #Pausa entre um arquivo e outro        \n",
    "    time.sleep(random.randrange(min_time,max_time))"
   ]
  },
  {
   "cell_type": "code",
   "execution_count": null,
   "metadata": {},
   "outputs": [],
   "source": [
    "#Verifica se foi possível abrir os arquivos que estavam com problemas\n",
    "for file in excel_problem:\n",
    "    try:\n",
    "        x_file = pd.read_excel(file,sheet_name=0, index_col=[0])\n",
    "    except:\n",
    "        print(file)"
   ]
  },
  {
   "cell_type": "code",
   "execution_count": null,
   "metadata": {},
   "outputs": [],
   "source": [
    "#Exibe tempo total de execução do script\n",
    "fim = datetime.now()\n",
    "tempo_total = fim - inicio\n",
    "print('Tempo total: {}'.format(tempo_total))"
   ]
  }
 ],
 "metadata": {
  "kernelspec": {
   "display_name": "StockRow_dataset",
   "language": "python",
   "name": "stockrow_dataset"
  },
  "language_info": {
   "codemirror_mode": {
    "name": "ipython",
    "version": 3
   },
   "file_extension": ".py",
   "mimetype": "text/x-python",
   "name": "python",
   "nbconvert_exporter": "python",
   "pygments_lexer": "ipython3",
   "version": "3.7.6"
  }
 },
 "nbformat": 4,
 "nbformat_minor": 4
}
