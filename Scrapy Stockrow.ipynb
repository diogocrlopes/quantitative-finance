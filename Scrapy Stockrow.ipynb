{
 "cells": [
  {
   "cell_type": "code",
   "execution_count": null,
   "metadata": {},
   "outputs": [],
   "source": [
    "import urllib.request #Acesso ao site e efetuar download\n",
    "import time #Usar função sleep\n",
    "import random #Gerar números aleatórios\n",
    "import glob #Selecionar arquivos\n",
    "import pandas as pd #Manipulação de dados\n",
    "import os #Maniplação de diretórios"
   ]
  },
  {
   "cell_type": "markdown",
   "metadata": {},
   "source": [
    "### **Leitura Symbol US Companies**"
   ]
  },
  {
   "cell_type": "code",
   "execution_count": null,
   "metadata": {},
   "outputs": [],
   "source": [
    "#Retorna path dos arquivos com nome nas empresas\n",
    "path_companies = './US Companies'\n",
    "filenames = glob.glob(path_companies + \"/*.csv\")"
   ]
  },
  {
   "cell_type": "code",
   "execution_count": null,
   "metadata": {},
   "outputs": [],
   "source": [
    "dfs = []\n",
    "for file in filenames:\n",
    "    dfs.append(pd.read_csv(file))\n",
    "names = pd.concat(dfs, ignore_index=True)\n",
    "names.info()"
   ]
  },
  {
   "cell_type": "code",
   "execution_count": null,
   "metadata": {},
   "outputs": [],
   "source": [
    "#Retorna ticker de ações com mais de $1B de market cap \n",
    "billion_companies = set()\n",
    "for row in names.index:\n",
    "    market_cap = str(names['MarketCap'].iloc[row])\n",
    "    if market_cap.find(\"B\") != -1:\n",
    "        billion_companies.add(names['Symbol'].iloc[row])\n",
    "len(billion_companies)"
   ]
  },
  {
   "cell_type": "markdown",
   "metadata": {},
   "source": [
    "### **Download empresas selecionadas**"
   ]
  },
  {
   "cell_type": "code",
   "execution_count": null,
   "metadata": {},
   "outputs": [],
   "source": [
    "#Local onde serão baixados os arquivos\n",
    "path_download = './RawData'\n",
    "#Cria pasta caso não exista\n",
    "if os.path.isdir(path_download) == False:\n",
    "    os.mkdir(path_download)\n",
    "#Cria pasta para cada tipo de relatório caso não existam\n",
    "if os.path.isdir(path_download + '/Growth_Quartely') == False:\n",
    "    os.mkdir(path_download + '/Growth_Quartely')\n",
    "if os.path.isdir(path_download + '/Metrics_Trailing') == False:\n",
    "    os.mkdir(path_download + '/Metrics_Trailing')\n",
    "if os.path.isdir(path_download + '/Metrics_Quartely') == False:\n",
    "    os.mkdir(path_download + '/Metrics_Quartely')\n",
    "if os.path.isdir(path_download + '/CashFlow_Quartely') == False:\n",
    "    os.mkdir(path_download + '/CashFlow_Quartely')\n",
    "if os.path.isdir(path_download + '/CashFlow_Trailing') == False:\n",
    "    os.mkdir(path_download + '/CashFlow_Trailing')\n",
    "if os.path.isdir(path_download + '/Income_Quartely') == False:\n",
    "    os.mkdir(path_download + '/Income_Quartely')\n",
    "if os.path.isdir(path_download + '/Income_Trailing') == False:\n",
    "    os.mkdir(path_download + '/Income_Trailing')\n",
    "if os.path.isdir(path_download + '/BalanceSheet_Quartely') == False:\n",
    "    os.mkdir(path_download + '/BalanceSheet_Quartely')"
   ]
  },
  {
   "cell_type": "code",
   "execution_count": null,
   "metadata": {},
   "outputs": [],
   "source": [
    "#Define tempo min e max entre um download e outro\n",
    "min_time = 1\n",
    "max_time = 20"
   ]
  },
  {
   "cell_type": "code",
   "execution_count": null,
   "metadata": {},
   "outputs": [],
   "source": [
    "#Download Growth Quartely\n",
    "\n",
    "size_companies = len(companies)\n",
    "for i, company in enumerate(companies):\n",
    "    print('{}:{}, Ticker: {}    '.format(i,size_companies,company), end=\"\\r\")\n",
    "    time.sleep(random.randrange(min_time,max_time))\n",
    "    try:\n",
    "        url = 'https://stockrow.com/api/companies/{}/financials.xlsx?dimension=Q&section=Growth&sort=desc'.format(company)\n",
    "        file_download = path_download + '/Growth_Quartely/{}_Growth_Quartely.xlsx'.format(company)\n",
    "        urllib.request.urlretrieve(url, file_download)\n",
    "    except:\n",
    "        companies_problem.append(company)"
   ]
  },
  {
   "cell_type": "code",
   "execution_count": null,
   "metadata": {},
   "outputs": [],
   "source": [
    "#Remove companies que não foi possível baixar dados\n",
    "for company in companies_problem:\n",
    "    billion_companies.remove(company)\n",
    "len(billion_companies)"
   ]
  },
  {
   "cell_type": "code",
   "execution_count": null,
   "metadata": {},
   "outputs": [],
   "source": [
    "#Download Metrics Trailing\n",
    "size_companies = len(billion_companies)\n",
    "for i, company in enumerate(billion_companies):\n",
    "    print('{}:{}, Ticker: {}    '.format(i+1,size_companies,company), end=\"\\r\")\n",
    "    time.sleep(random.randrange(min_time,max_time))\n",
    "    try:\n",
    "        url = 'https://stockrow.com/api/companies/{}/financials.xlsx?dimension=T&section=Metrics&sort=desc'.format(company)\n",
    "        file_download = path_download +  '/Metrics_Trailing/{}_Metrics_Trailing.xlsx'.format(company)\n",
    "        urllib.request.urlretrieve(url, file_download)\n",
    "    except:\n",
    "        companies_problem.append(company)"
   ]
  },
  {
   "cell_type": "code",
   "execution_count": null,
   "metadata": {},
   "outputs": [],
   "source": [
    "#Download Metrics Quartely\n",
    "size_companies = len(billion_companies)\n",
    "for i, company in enumerate(billion_companies):\n",
    "    print('{}:{}, Ticker: {}    '.format(i+1,size_companies,company), end=\"\\r\")\n",
    "    time.sleep(random.randrange(min_time,max_time))\n",
    "    try:\n",
    "        url = 'https://stockrow.com/api/companies/{}/financials.xlsx?dimension=T&section=Metrics&sort=desc'.format(company)\n",
    "        file_download = path_download +  '/Metrics_Quartely/{}_Metrics_Quartely.xlsx'.format(company)\n",
    "        urllib.request.urlretrieve(url, file_download)\n",
    "    except:\n",
    "        companies_problem.append(company)"
   ]
  },
  {
   "cell_type": "code",
   "execution_count": null,
   "metadata": {},
   "outputs": [],
   "source": [
    "#Download Cash Flow Quartely\n",
    "size_companies = len(billion_companies)\n",
    "for i, company in enumerate(billion_companies):\n",
    "    print('{}:{}, Ticker: {}    '.format(i+1,size_companies,company), end=\"\\r\")\n",
    "    time.sleep(random.randrange(min_time,max_time))\n",
    "    try:\n",
    "        url = 'https://stockrow.com/api/companies/{}/financials.xlsx?dimension=Q&section=Cash%20Flow&sort=desc'.format(company)\n",
    "        file_download = path_download +  '/CashFlow_Quartely/{}_CashFlow_Quartely.xlsx'.format(company)\n",
    "        urllib.request.urlretrieve(url, file_download)\n",
    "    except:\n",
    "        companies_problem.append(company)"
   ]
  },
  {
   "cell_type": "code",
   "execution_count": null,
   "metadata": {},
   "outputs": [],
   "source": [
    "#Download Cash Flow Trailing\n",
    "size_companies = len(billion_companies)\n",
    "for i, company in enumerate(billion_companies):\n",
    "    print('{}:{}, Ticker: {}    '.format(i+1,size_companies,company), end=\"\\r\")\n",
    "    time.sleep(random.randrange(min_time,max_time))\n",
    "    try:\n",
    "        url = 'https://stockrow.com/api/companies/{}/financials.xlsx?dimension=T&section=Cash%20Flow&sort=desc'.format(company)\n",
    "        file_download = path_download +  '/CashFlow_Trailing/{}_CashFlow_Trailing.xlsx'.format(company)\n",
    "        urllib.request.urlretrieve(url, file_download)\n",
    "    except:\n",
    "        companies_problem.append(company)"
   ]
  },
  {
   "cell_type": "code",
   "execution_count": null,
   "metadata": {},
   "outputs": [],
   "source": [
    "#Download Income Quartely\n",
    "size_companies = len(billion_companies)\n",
    "for i, company in enumerate(billion_companies):\n",
    "    print('{}:{}, Ticker: {}    '.format(i+1,size_companies,company), end=\"\\r\")\n",
    "    time.sleep(random.randrange(min_time,max_time))\n",
    "    try:\n",
    "        url = 'https://stockrow.com/api/companies/{}/financials.xlsx?dimension=Q&section=Income%20Statement&sort=desc'.format(company)\n",
    "        file_download = path_download +  '/Income_Quartely/{}_Income_Quartely.xlsx'.format(company)\n",
    "        urllib.request.urlretrieve(url, file_download)\n",
    "    except:\n",
    "        companies_problem.append(company)"
   ]
  },
  {
   "cell_type": "code",
   "execution_count": null,
   "metadata": {},
   "outputs": [],
   "source": [
    "#Download Income Trailing\n",
    "size_companies = len(billion_companies)\n",
    "for i, company in enumerate(billion_companies):\n",
    "    print('{}:{}, Ticker: {}    '.format(i+1,size_companies,company), end=\"\\r\")\n",
    "    time.sleep(random.randrange(min_time,max_time))\n",
    "    try:\n",
    "        url = 'https://stockrow.com/api/companies/{}/financials.xlsx?dimension=T&section=Income%20Statement&sort=desc'.format(company)\n",
    "        file_download = path_download +  '/Income_Trailing/{}_Income_Trailing.xlsx'.format(company)\n",
    "        urllib.request.urlretrieve(url, file_download)\n",
    "    except:\n",
    "        companies_problem.append(company)"
   ]
  },
  {
   "cell_type": "code",
   "execution_count": null,
   "metadata": {},
   "outputs": [],
   "source": [
    "#Download Balance Sheet Quartely\n",
    "size_companies = len(billion_companies)\n",
    "for i, company in enumerate(billion_companies):\n",
    "    print('{}:{}, Ticker: {}    '.format(i+1,size_companies,company), end=\"\\r\")\n",
    "    time.sleep(random.randrange(min_time,max_time))\n",
    "    try:\n",
    "        url = 'https://stockrow.com/api/companies/{}/financials.xlsx?dimension=Q&section=Balance%20Sheet&sort=desc'.format(company)\n",
    "        file_download = path_download +  '/BalanceSheet_Quartely/{}_BalanceSheet_Quartely.xlsx'.format(company)\n",
    "        urllib.request.urlretrieve(url, file_download)\n",
    "    except:\n",
    "        companies_problem.append(company)"
   ]
  }
 ],
 "metadata": {
  "kernelspec": {
   "display_name": "StockRow_dataset",
   "language": "python",
   "name": "stockrow_dataset"
  },
  "language_info": {
   "codemirror_mode": {
    "name": "ipython",
    "version": 3
   },
   "file_extension": ".py",
   "mimetype": "text/x-python",
   "name": "python",
   "nbconvert_exporter": "python",
   "pygments_lexer": "ipython3",
   "version": "3.7.6"
  }
 },
 "nbformat": 4,
 "nbformat_minor": 4
}
